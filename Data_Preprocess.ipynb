{
 "cells": [
  {
   "cell_type": "markdown",
   "id": "c3d964d3",
   "metadata": {},
   "source": [
    "# 1. Import  Dependencies\n"
   ]
  },
  {
   "cell_type": "code",
   "execution_count": 1,
   "id": "a7831a01",
   "metadata": {},
   "outputs": [],
   "source": [
    "import os\n",
    "import numpy as np"
   ]
  },
  {
   "cell_type": "markdown",
   "id": "ab53b920",
   "metadata": {},
   "source": [
    "# 2. Preprocess Data and Create Labels and Features\n"
   ]
  },
  {
   "cell_type": "code",
   "execution_count": 2,
   "id": "ed0c6929",
   "metadata": {},
   "outputs": [],
   "source": [
    "actions = os.listdir(\"E:\\Dataset\")"
   ]
  },
  {
   "cell_type": "code",
   "execution_count": 3,
   "id": "c00a6af5",
   "metadata": {},
   "outputs": [],
   "source": [
    "label_map={label:num for num,label in enumerate(actions)}"
   ]
  },
  {
   "cell_type": "code",
   "execution_count": 20,
   "id": "aab46c4b",
   "metadata": {},
   "outputs": [
    {
     "name": "stdout",
     "output_type": "stream",
     "text": [
      "[22, 22, 24, 25, 26, 26, 27, 28, 29, 30, 31, 31, 31, 33, 34, 34, 34, 35, 35, 35, 35, 35, 35, 36, 36, 36, 37, 37, 38, 39, 39, 40, 40, 41, 41, 41, 41, 42, 42, 42]\n"
     ]
    }
   ],
   "source": [
    "l=[]\n",
    "for ac in actions:\n",
    "    l.append(len(os.listdir(os.path.join(\"E:\\Dataset\", ac))))\n",
    "l.sort()\n",
    "print(l[:40])"
   ]
  },
  {
   "cell_type": "code",
   "execution_count": 1,
   "id": "8631ffbc",
   "metadata": {
    "scrolled": false
   },
   "outputs": [
    {
     "name": "stdout",
     "output_type": "stream",
     "text": [
      "\n"
     ]
    }
   ],
   "source": [
    "sequence, labels = [],[]\n",
    "for action in actions:\n",
    "    action_path = os.path.join(\"E:\\Dataset\", action)\n",
    "    if not os.path.isdir(action_path) or len(os.listdir(action_path))<40:\n",
    "        continue\n",
    "    windows = []\n",
    "    # Loop through each frame in the action folder\n",
    "    for frame in os.listdir(action_path)[-40:]:\n",
    "        r = np.load(os.path.join(action_path,frame))\n",
    "        windows.append(r)\n",
    "        print(r)\n",
    "        \n",
    "    sequence.append(windows)\n",
    "    labels.append(label_map[action])"
   ]
  },
  {
   "cell_type": "code",
   "execution_count": 22,
   "id": "c0bef83a",
   "metadata": {},
   "outputs": [],
   "source": [
    "X = np.array(sequence)"
   ]
  },
  {
   "cell_type": "code",
   "execution_count": 23,
   "id": "01b8c7ab",
   "metadata": {},
   "outputs": [
    {
     "data": {
      "text/plain": [
       "(288, 40, 258)"
      ]
     },
     "execution_count": 23,
     "metadata": {},
     "output_type": "execute_result"
    }
   ],
   "source": [
    "X.shape"
   ]
  },
  {
   "cell_type": "code",
   "execution_count": 25,
   "id": "cf802f47",
   "metadata": {},
   "outputs": [],
   "source": [
    "y=np.array(labels)"
   ]
  },
  {
   "cell_type": "code",
   "execution_count": 26,
   "id": "53d9ad91",
   "metadata": {},
   "outputs": [
    {
     "data": {
      "text/plain": [
       "(288,)"
      ]
     },
     "execution_count": 26,
     "metadata": {},
     "output_type": "execute_result"
    }
   ],
   "source": [
    "y.shape"
   ]
  },
  {
   "cell_type": "markdown",
   "id": "4bcbeaf0",
   "metadata": {},
   "source": [
    "# 3. Setup Folders for Collection\n"
   ]
  },
  {
   "cell_type": "code",
   "execution_count": 28,
   "id": "786f0862",
   "metadata": {},
   "outputs": [],
   "source": [
    "np.save(\"E:\\PreProcessedData\\Sequence\",X)"
   ]
  },
  {
   "cell_type": "code",
   "execution_count": 29,
   "id": "aa685714",
   "metadata": {},
   "outputs": [],
   "source": [
    "np.save(\"E:\\PreProcessedData\\labels\",y)"
   ]
  }
 ],
 "metadata": {
  "kernelspec": {
   "display_name": "Python 3 (ipykernel)",
   "language": "python",
   "name": "python3"
  },
  "language_info": {
   "codemirror_mode": {
    "name": "ipython",
    "version": 3
   },
   "file_extension": ".py",
   "mimetype": "text/x-python",
   "name": "python",
   "nbconvert_exporter": "python",
   "pygments_lexer": "ipython3",
   "version": "3.10.9"
  }
 },
 "nbformat": 4,
 "nbformat_minor": 5
}
